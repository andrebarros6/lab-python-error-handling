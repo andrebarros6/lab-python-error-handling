{
 "cells": [
  {
   "cell_type": "markdown",
   "id": "25d7736c-ba17-4aff-b6bb-66eba20fbf4e",
   "metadata": {},
   "source": [
    "# Lab | Error Handling"
   ]
  },
  {
   "cell_type": "markdown",
   "id": "7546add4-b562-4a76-9730-55ff04319232",
   "metadata": {},
   "source": [
    "## Exercise: Error Handling for Managing Customer Orders\n",
    "\n",
    "The implementation of your code for managing customer orders assumes that the user will always enter a valid input. \n",
    "\n",
    "For example, we could modify the `initialize_inventory` function to include error handling.\n",
    "   - If the user enters an invalid quantity (e.g., a negative value or a non-numeric value), display an error message and ask them to re-enter the quantity for that product.\n",
    "   - Use a try-except block to handle the error and continue prompting the user until a valid quantity is entered.\n",
    "\n",
    "```python"
   ]
  },
  {
   "cell_type": "code",
   "execution_count": 1,
   "id": "929a0352-ff96-439c-9db7-bc9cc94f6d8a",
   "metadata": {},
   "outputs": [],
   "source": [
    "# Step 1: Define the function for initializing the inventory with error handling\n",
    "def initialize_inventory(products):\n",
    "    inventory = {}\n",
    "    for product in products:\n",
    "        valid_quantity = False\n",
    "        while not valid_quantity:\n",
    "            try:\n",
    "                quantity = int(input(f\"Enter the quantity of {product}s available: \"))\n",
    "                if quantity < 0:\n",
    "                    raise ValueError(\"Invalid quantity! Please enter a non-negative value.\")\n",
    "                valid_quantity = True\n",
    "            except ValueError as error:\n",
    "                print(f\"Error: {error}\")\n",
    "        inventory[product] = quantity\n",
    "    return inventory"
   ]
  },
  {
   "cell_type": "markdown",
   "id": "8ea6eb33-83b7-4cf3-9898-36d533cea5b6",
   "metadata": {},
   "source": [
    "```python\n",
    "# Or, in another way:\n",
    "\n",
    "def initialize_inventory(products):\n",
    "    inventory = {}\n",
    "    for product in products:\n",
    "        valid_input = False\n",
    "        while not valid_input:\n",
    "            try:\n",
    "                quantity = int(input(f\"Enter the quantity of {product}s available: \"))\n",
    "                if quantity >= 0:\n",
    "                    inventory[product] = quantity\n",
    "                    valid_input = True\n",
    "                else:\n",
    "                    print(\"Quantity cannot be negative. Please enter a valid quantity.\")\n",
    "            except ValueError:\n",
    "                print(\"Invalid input. Please enter a valid quantity.\")\n",
    "    return inventory\n",
    "```\n",
    "\n",
    "Let's enhance your code by implementing error handling to handle invalid inputs.\n",
    "\n",
    "Follow the steps below to complete the exercise:\n",
    "\n",
    "2. Modify the `calculate_total_price` function to include error handling.\n",
    "   - If the user enters an invalid price (e.g., a negative value or a non-numeric value), display an error message and ask them to re-enter the price for that product.\n",
    "   - Use a try-except block to handle the error and continue prompting the user until a valid price is entered.\n",
    "\n",
    "3. Modify the `get_customer_orders` function to include error handling.\n",
    "   - If the user enters an invalid number of orders (e.g., a negative value or a non-numeric value), display an error message and ask them to re-enter the number of orders.\n",
    "   - If the user enters an invalid product name (e.g., a product name that is not in the inventory), or that doesn't have stock available, display an error message and ask them to re-enter the product name. *Hint: you will need to pass inventory as a parameter*\n",
    "   - Use a try-except block to handle the error and continue prompting the user until a valid product name is entered.\n",
    "\n",
    "4. Test your code by running the program and deliberately entering invalid quantities and product names. Make sure the error handling mechanism works as expected."
   ]
  },
  {
   "cell_type": "markdown",
   "id": "d6da4151-e019-46dc-bafa-59d40ef19e48",
   "metadata": {},
   "source": [
    "# solution start"
   ]
  },
  {
   "cell_type": "markdown",
   "id": "62081373-8eaf-4e64-a94a-6c3a6b1940cc",
   "metadata": {},
   "source": [
    "2. Modify the calculate_total_price function to include error handling.\n",
    "\n",
    "If the user enters an invalid price (e.g., a negative value or a non-numeric value), display an error message and ask them to re-enter the price for that product.\n",
    "Use a try-except block to handle the error and continue prompting the user until a valid price is entered."
   ]
  },
  {
   "cell_type": "code",
   "execution_count": 2,
   "id": "d44cc944-4b32-4484-a540-3d2e26a4daf9",
   "metadata": {},
   "outputs": [],
   "source": [
    "def total_order_price(orders):\n",
    "    order_price = 0.0\n",
    "    for product in orders:\n",
    "        valid_quantity = False\n",
    "        while not valid_quantity:\n",
    "            try:\n",
    "                prod_price = float(input(f\"Enter the price of {product}: \"))\n",
    "                if prod_price < 0:\n",
    "                    raise ValueError(\"Value is negative. Please enter a non-negative value.\")\n",
    "                break\n",
    "            except ValueError as error:\n",
    "                print(f\"Error: {error}\")\n",
    "        order_price += prod_price\n",
    "    return order_price\n",
    "\n",
    "# customer_orders = {\"hat\", \"mug\"}\n",
    "# total_order_price(customer_orders)\n"
   ]
  },
  {
   "cell_type": "markdown",
   "id": "accaf012-e2d8-4c9c-8901-0547e55f42a1",
   "metadata": {},
   "source": [
    "3. Modify the `get_customer_orders` function to include error handling.\n",
    "   - If the user enters an invalid number of orders (e.g., a negative value or a non-numeric value), display an error message and ask them to re-enter the number of orders.\n",
    "   - If the user enters an invalid product name (e.g., a product name that is not in the inventory), or that doesn't have stock available, display an error message and ask them to re-enter the product name. *Hint: you will need to pass inventory as a parameter*\n",
    "   - Use a try-except block to handle the error and continue prompting the user until a valid product name is entered."
   ]
  },
  {
   "cell_type": "code",
   "execution_count": 3,
   "id": "3cf1f51a-8d2c-44ee-bd34-229dd3bfc2a4",
   "metadata": {},
   "outputs": [],
   "source": [
    "def get_customer_orders(products):\n",
    "    number_of_customer_orders = int(input(\"Enter the number of products the customer wants to order: \"))\n",
    "    orders = {input(\"Enter the name of a product the customer wants to order: \") for i in range(number_of_customer_orders)}\n",
    "    return orders.intersection(products)\n",
    "    \n"
   ]
  },
  {
   "cell_type": "code",
   "execution_count": 4,
   "id": "40621cac-4a3c-4f7c-a86a-28caa784570a",
   "metadata": {},
   "outputs": [],
   "source": [
    "def get_customer_orders(inventory):\n",
    "    #verify if quantity is valid input\n",
    "    valid_qtt = False\n",
    "    while not valid_qtt:\n",
    "        try:\n",
    "            number_of_customer_orders = int(input(\"Enter the number of products the customer wants to order: \"))\n",
    "            if number_of_customer_orders < 0:\n",
    "                raise ValueError(\"Invalid quantity! Please enter a non-negative value.\")\n",
    "            valid_qtt = True\n",
    "        except ValueError as error:\n",
    "            print(f\"Error: {error}\")\n",
    "    number_of_customer_orders = number_of_customer_orders\n",
    "\n",
    "    #verify if product are existing products in inventory for as many times as quantity before\n",
    "    orders = set()\n",
    "    for i in range(number_of_customer_orders):\n",
    "        valid_product = False\n",
    "        while not valid_product:\n",
    "            try:\n",
    "                product = input(\"Enter the name of a product the customer wants to order: \")\n",
    "                if product not in inventory:\n",
    "                    raise ValueError(\"Invalid product! Product not on the list.\")\n",
    "                valid_product = True\n",
    "            except ValueError as error:\n",
    "                print(f\"Error: {error}\")\n",
    "        orders.add(product)\n",
    "        \n",
    "    return orders\n",
    "\n",
    "# inventory = {\"hat\",\"mug\",\"book\"}\n",
    "# get_customer_orders(inventory)"
   ]
  },
  {
   "cell_type": "code",
   "execution_count": 5,
   "id": "203f8a81-90bc-4fae-bb1b-99dfa6ced482",
   "metadata": {},
   "outputs": [],
   "source": [
    "def calculate_order_statistics (customer_orders, products, inventory):\n",
    "    total_products_ordered = len(customer_orders)\n",
    "\n",
    "    total_products = 0\n",
    "    for product in inventory:\n",
    "        total_products += 1\n",
    "    percentage = (total_products_ordered / total_products)*100\n",
    "    return total_products_ordered, percentage\n",
    "\n",
    "# order_status = calculate_order_statistics (customer_orders, products)\n",
    "\n",
    "#1.8. Print the order statistics using the following format:\n",
    "def print_order_statistics(calculate_order_statistics):\n",
    "    rounded_percentage = round(calculate_order_statistics[1], 3)\n",
    "    print(\"\\n\")\n",
    "    print(\"Order Statistics: \")\n",
    "    print(\"Total Products Ordered:\", calculate_order_statistics[0])\n",
    "    print(f\"Percentage of Products Ordered: {rounded_percentage}%\")\n",
    "    print(\"\\n\")\n"
   ]
  },
  {
   "cell_type": "code",
   "execution_count": 6,
   "id": "146dbdf0-3061-48e8-953e-93a1ff870ffb",
   "metadata": {},
   "outputs": [],
   "source": [
    "def update_inventory(customer_orders, inventory):\n",
    "    return {product : inventory[product] - 1 if product in customer_orders else inventory[product] for product in inventory.keys()}"
   ]
  },
  {
   "cell_type": "code",
   "execution_count": 7,
   "id": "67175bce-9237-4e05-a1f9-0c89d2cd73db",
   "metadata": {},
   "outputs": [],
   "source": [
    "def print_updated_inventory(f_inventory):\n",
    "    print(\"Updated inventory:\")\n",
    "    [print(f\"{product} : {f_inventory[product]}\") for product in f_inventory]"
   ]
  },
  {
   "cell_type": "code",
   "execution_count": 8,
   "id": "21b4e7dc-82de-4700-8ebb-7c70b7a3630d",
   "metadata": {},
   "outputs": [],
   "source": [
    "def total_order_price(orders):\n",
    "    return sum(float(input(f\"Enter the price of {product}: \")) for product in orders)"
   ]
  },
  {
   "cell_type": "code",
   "execution_count": 9,
   "id": "c1709950-40b5-4dfa-b1f1-73d4af465c3a",
   "metadata": {},
   "outputs": [],
   "source": [
    "def print_order_price(price_calculated):\n",
    "    print(\"Total price: \", price_calculated)"
   ]
  },
  {
   "cell_type": "markdown",
   "id": "27aa3d72-2c21-4972-837e-22bc4d485220",
   "metadata": {},
   "source": [
    "4. Test your code by running the program and deliberately entering invalid quantities and product names. Make sure the error handling mechanism works as expected."
   ]
  },
  {
   "cell_type": "code",
   "execution_count": 11,
   "id": "a98ee2b7-058f-4ef8-90cb-3b4690f0012a",
   "metadata": {},
   "outputs": [
    {
     "name": "stdin",
     "output_type": "stream",
     "text": [
      "Enter the quantity of t-shirts available:  4\n",
      "Enter the quantity of mugs available:  3\n",
      "Enter the quantity of hats available:  5\n",
      "Enter the quantity of books available:  3\n",
      "Enter the quantity of keychains available:  1\n",
      "Enter the number of products the customer wants to order:  2\n",
      "Enter the name of a product the customer wants to order:  keychain\n",
      "Enter the name of a product the customer wants to order:  hat\n"
     ]
    },
    {
     "name": "stdout",
     "output_type": "stream",
     "text": [
      "\n",
      "\n",
      "Order Statistics: \n",
      "Total Products Ordered: 2\n",
      "Percentage of Products Ordered: 40.0%\n",
      "\n",
      "\n",
      "Updated inventory:\n",
      "t-shirt : 4\n",
      "mug : 3\n",
      "hat : 4\n",
      "book : 3\n",
      "keychain : 0\n"
     ]
    },
    {
     "name": "stdin",
     "output_type": "stream",
     "text": [
      "Enter the price of hat:  5\n",
      "Enter the price of keychain:  6\n"
     ]
    },
    {
     "name": "stdout",
     "output_type": "stream",
     "text": [
      "Total price:  11.0\n"
     ]
    }
   ],
   "source": [
    "def manage_customer_orders():\n",
    "    inventory = initialize_inventory(products)\n",
    "    customer_orders = get_customer_orders(inventory)\n",
    "\n",
    "    updated_inventory = update_inventory(customer_orders,inventory)\n",
    "\n",
    "    order_statitics = calculate_order_statistics (customer_orders, products, inventory)\n",
    "\n",
    "    print_order_statistics(order_statitics)\n",
    "    print_updated_inventory(updated_inventory)\n",
    "    order_price = total_order_price(customer_orders)\n",
    "    print_order_price(order_price)\n",
    "\n",
    "products = [\"t-shirt\", \"mug\", \"hat\", \"book\", \"keychain\"] \n",
    "\n",
    "manage_customer_orders()"
   ]
  }
 ],
 "metadata": {
  "kernelspec": {
   "display_name": "Python 3 (ipykernel)",
   "language": "python",
   "name": "python3"
  },
  "language_info": {
   "codemirror_mode": {
    "name": "ipython",
    "version": 3
   },
   "file_extension": ".py",
   "mimetype": "text/x-python",
   "name": "python",
   "nbconvert_exporter": "python",
   "pygments_lexer": "ipython3",
   "version": "3.13.1"
  }
 },
 "nbformat": 4,
 "nbformat_minor": 5
}
